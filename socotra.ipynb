{
  "nbformat": 4,
  "nbformat_minor": 0,
  "metadata": {
    "colab": {
      "name": "socotra.ipynb",
      "version": "0.3.2",
      "provenance": [],
      "collapsed_sections": [],
      "include_colab_link": true
    },
    "kernelspec": {
      "name": "python3",
      "display_name": "Python 3"
    }
  },
  "cells": [
    {
      "cell_type": "markdown",
      "metadata": {
        "id": "view-in-github",
        "colab_type": "text"
      },
      "source": [
        "<a href=\"https://colab.research.google.com/github/vijayrgopu/RESTApi/blob/master/socotra.ipynb\" target=\"_parent\"><img src=\"https://colab.research.google.com/assets/colab-badge.svg\" alt=\"Open In Colab\"/></a>"
      ]
    },
    {
      "metadata": {
        "id": "SvBcpQ_nWfDu",
        "colab_type": "text"
      },
      "cell_type": "markdown",
      "source": [
        "# Import Requests and prettyprint libraries"
      ]
    },
    {
      "metadata": {
        "id": "EYPK1f-VWl7F",
        "colab_type": "code",
        "colab": {}
      },
      "cell_type": "code",
      "source": [
        "#Importing requests lib for REST API\n",
        "import requests\n",
        "import pprint"
      ],
      "execution_count": 0,
      "outputs": []
    },
    {
      "metadata": {
        "id": "Y1hQ4YkzWsM8",
        "colab_type": "text"
      },
      "cell_type": "markdown",
      "source": [
        "# Get Authorization Token using credentials provided"
      ]
    },
    {
      "metadata": {
        "id": "dX2qTkGPW2m7",
        "colab_type": "code",
        "colab": {}
      },
      "cell_type": "code",
      "source": [
        "#Using credentials provided get Auth Token\n",
        "def get_auth_token():\n",
        "  auth_url = 'https://api.sandbox.socotra.com/account/authenticate'\n",
        "  host_name = 'vgopu-sata-configeditor.co.sandbox.socotra.com'\n",
        "  \n",
        "  response = requests.post(\n",
        "          auth_url,\n",
        "          json={'hostName': host_name,\n",
        "                'username':'alice.lee',\n",
        "                'password':'socotra'})\n",
        "\n",
        "  #from the response dictionary get the token using the key authorizationToken\n",
        "  authToken = response.json()['authorizationToken']\n",
        "  return authToken"
      ],
      "execution_count": 0,
      "outputs": []
    },
    {
      "metadata": {
        "id": "7XKF6G0pW704",
        "colab_type": "text"
      },
      "cell_type": "markdown",
      "source": [
        "# Create a Session and Update Authorization Token"
      ]
    },
    {
      "metadata": {
        "id": "3R00nON0XFOs",
        "colab_type": "code",
        "colab": {}
      },
      "cell_type": "code",
      "source": [
        "#update session with received Token\n",
        "def get_session(authToken):\n",
        "  #creating Headers\n",
        "  headers = {'Authorization': authToken}\n",
        "  session = requests.Session()\n",
        "  session.headers.update(headers)\n",
        "  return session"
      ],
      "execution_count": 0,
      "outputs": []
    },
    {
      "metadata": {
        "id": "jAE56hPRXJY5",
        "colab_type": "text"
      },
      "cell_type": "markdown",
      "source": [
        "# Create a Policy Holder"
      ]
    },
    {
      "metadata": {
        "id": "lCA7d9lRXQZj",
        "colab_type": "code",
        "colab": {}
      },
      "cell_type": "code",
      "source": [
        "#Creating a policy holder\n",
        "def create_policyholder(session):\n",
        "  create_policyholder_url = 'https://api.sandbox.socotra.com/policyholder/create'\n",
        "  policyholder_values = {'first_name': 'Vijaya',\n",
        "                         'last_name': 'Gopu',\n",
        "                         'date_of_birth': '1987-10-03',\n",
        "                         'policyholder_id': 'placeholder'}\n",
        "  \n",
        "  response = session.post(\n",
        "        create_policyholder_url,\n",
        "        json={'values': policyholder_values})\n",
        "  policyholder = response.json()\n",
        "  return policyholder"
      ],
      "execution_count": 0,
      "outputs": []
    },
    {
      "metadata": {
        "id": "mmar1YthXSKo",
        "colab_type": "text"
      },
      "cell_type": "markdown",
      "source": [
        "# Create Insured Vehicle or Exposure"
      ]
    },
    {
      "metadata": {
        "id": "wF4SlbSqXZLB",
        "colab_type": "code",
        "colab": {}
      },
      "cell_type": "code",
      "source": [
        "#Creating Exposure\n",
        "def create_exposure():\n",
        "  exposure_values = {'vehicle_type': 'Car',\n",
        "                     'make': 'Acura',\n",
        "                     'model': 'TSX',\n",
        "                     'year': '2017',\n",
        "                     'vehicle_value': '35000',\n",
        "                     'license_plate': '6NAX604',\n",
        "                     'vehicle_color': 'Blue'#Include vehicle color because we added vehicle_color as new property while configuring\n",
        "                    }\n",
        "\n",
        "  exposure = {'exposureName': 'vehicle',\n",
        "              'fieldValues': exposure_values,\n",
        "              'perils': [{'name': 'bodily_injury'},\n",
        "                         {'name': 'third_party_liability'}]\n",
        "             }\n",
        "  return exposure"
      ],
      "execution_count": 0,
      "outputs": []
    },
    {
      "metadata": {
        "id": "kjrHJFUrXd7H",
        "colab_type": "text"
      },
      "cell_type": "markdown",
      "source": [
        "# Create a Policy for Exposure"
      ]
    },
    {
      "metadata": {
        "id": "E_kwPI5Hy5LZ",
        "colab_type": "code",
        "colab": {}
      },
      "cell_type": "code",
      "source": [
        "#Create policy\n",
        "def create_policy(session,policyholder,exposure):\n",
        "  create_policy_url = 'https://api.sandbox.socotra.com/policy'\n",
        "  policyholder_locator = policyholder['locator']\n",
        "  #create policy channel\n",
        "  policy_values = {'channel': 'Direct'}\n",
        "\n",
        "  #policy dictionary\n",
        "  policy = { 'policyholderLocator': policyholder_locator,\n",
        "             'productName': 'simple_auto',\n",
        "             'fieldValues': policy_values,\n",
        "             'exposures': [exposure]\n",
        "           }\n",
        "\n",
        "  response = session.post(create_policy_url,json=policy)\n",
        "  #pp = pprint.PrettyPrinter(indent=1)\n",
        "  #pp.pprint(response.json())\n",
        "  policy = response.json()\n",
        "  return policy"
      ],
      "execution_count": 0,
      "outputs": []
    },
    {
      "metadata": {
        "id": "GobxKmutWPCD",
        "colab_type": "text"
      },
      "cell_type": "markdown",
      "source": [
        "# Get the Invoice Information using policyID or policy locator"
      ]
    },
    {
      "metadata": {
        "id": "_UXasLOa4D49",
        "colab_type": "code",
        "colab": {}
      },
      "cell_type": "code",
      "source": [
        "#get policy data from API\n",
        "def get_invoice(session, policy):\n",
        "  policy_locator = policy['locator']\n",
        "  invoice_response = session.get(\n",
        "          'https://api.sandbox.socotra.com/policy/' + policy_locator)\n",
        "  display_id = invoice_response.json()['displayId']\n",
        "  num_of_invoices = len(invoice_response.json()['invoices'])\n",
        "\n",
        "  print ('Policy id: %s' % display_id)\n",
        "  print ('Number of invoices on Policy: %s' % num_of_invoices)"
      ],
      "execution_count": 0,
      "outputs": []
    },
    {
      "metadata": {
        "id": "t_vFTyIcXsq4",
        "colab_type": "text"
      },
      "cell_type": "markdown",
      "source": [
        "# Controller Program to Invoke functions and return Invoice Info"
      ]
    },
    {
      "metadata": {
        "id": "IlTQyVvTX4o7",
        "colab_type": "code",
        "outputId": "ceabe113-af37-4aeb-fbc6-1c0d57265e95",
        "colab": {
          "base_uri": "https://localhost:8080/",
          "height": 50
        }
      },
      "cell_type": "code",
      "source": [
        "if __name__ == \"__main__\":\n",
        "  authToken = get_auth_token()\n",
        "  session = get_session(authToken)\n",
        "  policyholder = create_policyholder(session)\n",
        "  exposure = create_exposure()\n",
        "  policy = create_policy(session,policyholder,exposure)\n",
        "  get_invoice(session, policy)"
      ],
      "execution_count": 8,
      "outputs": [
        {
          "output_type": "stream",
          "text": [
            "Policy id: 100000061\n",
            "Number of invoices on Policy: 1\n"
          ],
          "name": "stdout"
        }
      ]
    }
  ]
}